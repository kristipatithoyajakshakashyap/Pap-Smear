{
 "cells": [
  {
   "cell_type": "markdown",
   "metadata": {},
   "source": [
    "# Experiments and results done on 80% training data, 10% Validation data and 10% Testing data extracted from training data"
   ]
  },
  {
   "cell_type": "markdown",
   "metadata": {},
   "source": [
    "This is the confusion matrox achieved by training the M1: CNN-Swin with the Focal losss weights of (0.25, 0.25, 0.75)\n",
    "\n",
    "![confusion matrix](./confusion_matrix_252575.png)"
   ]
  },
  {
   "cell_type": "markdown",
   "metadata": {},
   "source": [
    "This is the confusion matrox achieved by training the M2: CNN-Swin with the Focal losss weights of (0.35, 0.35, 0.75)\n",
    "\n",
    "![confusion matrix](./confusion_matrix_252575.png)"
   ]
  },
  {
   "cell_type": "markdown",
   "metadata": {},
   "source": [
    "This is the confusion matrox achieved by training the M4: CNN-Swin with the Focal losss weights of (1, 1, 5)\n",
    "\n",
    "![confusion matrix](./confusion_matrix_115.png)"
   ]
  },
  {
   "cell_type": "markdown",
   "metadata": {},
   "source": []
  }
 ],
 "metadata": {
  "language_info": {
   "name": "python"
  }
 },
 "nbformat": 4,
 "nbformat_minor": 2
}
